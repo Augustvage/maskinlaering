{
 "cells": [
  {
   "cell_type": "code",
   "execution_count": 69,
   "metadata": {},
   "outputs": [],
   "source": [
    "#Import\n",
    "from decision_tree import DecisionTree as DT\n",
    "from decision_tree_for_forest import DecisionTree as DT2, Node\n",
    "from random_forest import RandomForest\n",
    "from sklearn.model_selection import KFold\n",
    "import numpy as np \n",
    "import pandas as pd\n",
    "from sklearn.model_selection import StratifiedKFold\n",
    "from sklearn.metrics import accuracy_score\n",
    "import itertools\n",
    "from sklearn.model_selection import train_test_split"
   ]
  },
  {
   "cell_type": "code",
   "execution_count": 70,
   "metadata": {},
   "outputs": [],
   "source": [
    "data=pd.read_csv('coffee_data.csv')\n",
    "data=pd.read_csv('wine_dataset_small.csv')\n",
    "np_array=data.to_numpy()\n",
    "X, y = np_array[:, :-1], np_array[:, -1]"
   ]
  },
  {
   "cell_type": "code",
   "execution_count": 75,
   "metadata": {},
   "outputs": [],
   "source": [
    "dt = DT2(\n",
    "    max_depth=10,\n",
    "    criterion='entropy',\n",
    "    max_features=None\n",
    ")"
   ]
  },
  {
   "cell_type": "code",
   "execution_count": 76,
   "metadata": {},
   "outputs": [
    {
     "name": "stdout",
     "output_type": "stream",
     "text": [
      "Training accuracy: 0.9771428571428571\n",
      "Test accuracy: 0.8533333333333334\n"
     ]
    }
   ],
   "source": [
    "if __name__ == \"__main__\":\n",
    "    seed = 0\n",
    "\n",
    "    seed=np.random.seed(seed)\n",
    "\n",
    "    X_train, X_test, y_train, y_test = train_test_split(\n",
    "        X, y, test_size=0.3, random_state=seed, shuffle=True\n",
    "    )\n",
    "\n",
    "    # Expect the training accuracy to be 1.0 when max_depth=None\n",
    "    dt.fit(X_train, y_train)\n",
    "\n",
    "    print(f\"Training accuracy: {accuracy_score(y_train, dt.predict(X_train))}\")\n",
    "    print(f\"Test accuracy: {accuracy_score(y_test, dt.predict(X_test))}\")\n",
    "        \n"
   ]
  },
  {
   "cell_type": "code",
   "execution_count": 73,
   "metadata": {},
   "outputs": [],
   "source": [
    "rf = RandomForest(\n",
    "    n_estimators=5, max_depth=10, criterion=\"gini\", max_features=\"sqrt\"\n",
    ")"
   ]
  },
  {
   "cell_type": "code",
   "execution_count": 74,
   "metadata": {},
   "outputs": [
    {
     "name": "stdout",
     "output_type": "stream",
     "text": [
      "Training accuracy: 0.9742857142857143\n",
      "Test accuracy: 0.8666666666666667\n"
     ]
    }
   ],
   "source": [
    "if __name__ == \"__main__\":\n",
    "\n",
    "    seed = 0\n",
    "\n",
    "    np.random.seed(seed)\n",
    "\n",
    "    X_train, X_test, y_train, y_test = train_test_split(\n",
    "        X, y, test_size=0.3, random_state=seed, shuffle=True\n",
    "    )\n",
    "\n",
    "    rf.fit(X_train, y_train)\n",
    "\n",
    "    train_accuracy = accuracy_score(y_train, rf.predict(X_train))\n",
    "    test_accuracy = accuracy_score(y_test, rf.predict(X_test))\n",
    "\n",
    "    print(f\"Training accuracy: {train_accuracy}\")\n",
    "    print(f\"Test accuracy: {test_accuracy}\")"
   ]
  }
 ],
 "metadata": {
  "kernelspec": {
   "display_name": "Python 3",
   "language": "python",
   "name": "python3"
  },
  "language_info": {
   "codemirror_mode": {
    "name": "ipython",
    "version": 3
   },
   "file_extension": ".py",
   "mimetype": "text/x-python",
   "name": "python",
   "nbconvert_exporter": "python",
   "pygments_lexer": "ipython3",
   "version": "3.12.2"
  }
 },
 "nbformat": 4,
 "nbformat_minor": 2
}
