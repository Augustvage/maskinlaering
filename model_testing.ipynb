{
 "cells": [
  {
   "cell_type": "code",
   "execution_count": 14,
   "metadata": {},
   "outputs": [],
   "source": [
    "#Import\n",
    "from decision_tree import DecisionTree as DT\n",
    "from decision_tree_for_forest import DecisionTree as DT2, Node\n",
    "from random_forest import RandomForest\n",
    "from sklearn.model_selection import KFold\n",
    "import numpy as np \n",
    "import pandas as pd\n",
    "from sklearn.model_selection import StratifiedKFold\n",
    "from sklearn.metrics import accuracy_score\n",
    "import itertools\n",
    "from sklearn.model_selection import train_test_split"
   ]
  },
  {
   "cell_type": "code",
   "execution_count": 15,
   "metadata": {},
   "outputs": [],
   "source": [
    "data=pd.read_csv('coffee_data.csv')\n",
    "#data=pd.read_csv('wine_dataset_small.csv')\n",
    "np_array=data.to_numpy()\n",
    "X, y = np_array[:, :-1], np_array[:, -1]"
   ]
  },
  {
   "cell_type": "code",
   "execution_count": 16,
   "metadata": {},
   "outputs": [],
   "source": [
    "dt = DT2(\n",
    "    max_depth=None,\n",
    "    criterion='gini',\n",
    "    max_features='sqrt'\n",
    ")\n",
    "\n",
    "rf = RandomForest(\n",
    "    n_estimators=10, \n",
    "    max_depth=7, \n",
    "    criterion=\"gini\", \n",
    "    max_features=\"log2\"\n",
    ")"
   ]
  },
  {
   "cell_type": "code",
   "execution_count": 17,
   "metadata": {},
   "outputs": [
    {
     "ename": "AttributeError",
     "evalue": "'NoneType' object has no attribute 'is_leaf'",
     "output_type": "error",
     "traceback": [
      "\u001b[1;31m---------------------------------------------------------------------------\u001b[0m",
      "\u001b[1;31mAttributeError\u001b[0m                            Traceback (most recent call last)",
      "Cell \u001b[1;32mIn[17], line 15\u001b[0m\n\u001b[0;32m     12\u001b[0m     \u001b[38;5;66;03m# Expect the training accuracy to be 1.0 when max_depth=None\u001b[39;00m\n\u001b[0;32m     13\u001b[0m     dt\u001b[38;5;241m.\u001b[39mfit(X_train, y_train)\n\u001b[1;32m---> 15\u001b[0m     \u001b[38;5;28mprint\u001b[39m(\u001b[38;5;124mf\u001b[39m\u001b[38;5;124m\"\u001b[39m\u001b[38;5;124mTraining accuracy: \u001b[39m\u001b[38;5;132;01m{\u001b[39;00maccuracy_score(y_train,\u001b[38;5;250m \u001b[39m\u001b[43mrf\u001b[49m\u001b[38;5;241;43m.\u001b[39;49m\u001b[43mpredict\u001b[49m\u001b[43m(\u001b[49m\u001b[43mX_train\u001b[49m\u001b[43m)\u001b[49m)\u001b[38;5;132;01m}\u001b[39;00m\u001b[38;5;124m\"\u001b[39m)\n\u001b[0;32m     16\u001b[0m     \u001b[38;5;28mprint\u001b[39m(\u001b[38;5;124mf\u001b[39m\u001b[38;5;124m\"\u001b[39m\u001b[38;5;124mValidation accuracy: \u001b[39m\u001b[38;5;132;01m{\u001b[39;00maccuracy_score(y_test,\u001b[38;5;250m \u001b[39mrf\u001b[38;5;241m.\u001b[39mpredict(X_test))\u001b[38;5;132;01m}\u001b[39;00m\u001b[38;5;124m\"\u001b[39m)\n\u001b[0;32m     18\u001b[0m \u001b[38;5;28;01mif\u001b[39;00m \u001b[38;5;18m__name__\u001b[39m \u001b[38;5;241m==\u001b[39m \u001b[38;5;124m\"\u001b[39m\u001b[38;5;124m__main__\u001b[39m\u001b[38;5;124m\"\u001b[39m:\n",
      "File \u001b[1;32mc:\\Users\\augus\\OneDrive\\Dokumenter\\Machine Learning\\Innlevering\\Hovedinnlevering\\maskinlaering\\random_forest.py:37\u001b[0m, in \u001b[0;36mRandomForest.predict\u001b[1;34m(self, X)\u001b[0m\n\u001b[0;32m     36\u001b[0m \u001b[38;5;28;01mdef\u001b[39;00m \u001b[38;5;21mpredict\u001b[39m(\u001b[38;5;28mself\u001b[39m, X: np\u001b[38;5;241m.\u001b[39mndarray) \u001b[38;5;241m-\u001b[39m\u001b[38;5;241m>\u001b[39m np\u001b[38;5;241m.\u001b[39mndarray:\n\u001b[1;32m---> 37\u001b[0m     predictions \u001b[38;5;241m=\u001b[39m np\u001b[38;5;241m.\u001b[39marray([\u001b[43mtree\u001b[49m\u001b[38;5;241;43m.\u001b[39;49m\u001b[43mpredict\u001b[49m\u001b[43m(\u001b[49m\u001b[43mX\u001b[49m\u001b[43m)\u001b[49m \u001b[38;5;28;01mfor\u001b[39;00m tree \u001b[38;5;129;01min\u001b[39;00m \u001b[38;5;28mself\u001b[39m\u001b[38;5;241m.\u001b[39mtrees])\n\u001b[0;32m     39\u001b[0m     \u001b[38;5;66;03m# Ensure predictions are of integer type\u001b[39;00m\n\u001b[0;32m     40\u001b[0m     predictions \u001b[38;5;241m=\u001b[39m predictions\u001b[38;5;241m.\u001b[39mastype(\u001b[38;5;28mint\u001b[39m)\n",
      "File \u001b[1;32mc:\\Users\\augus\\OneDrive\\Dokumenter\\Machine Learning\\Innlevering\\Hovedinnlevering\\maskinlaering\\decision_tree_for_forest.py:153\u001b[0m, in \u001b[0;36mDecisionTree.predict\u001b[1;34m(self, X)\u001b[0m\n\u001b[0;32m    149\u001b[0m \u001b[38;5;28;01mdef\u001b[39;00m \u001b[38;5;21mpredict\u001b[39m(\u001b[38;5;28mself\u001b[39m, X: np\u001b[38;5;241m.\u001b[39mndarray) \u001b[38;5;241m-\u001b[39m\u001b[38;5;241m>\u001b[39m np\u001b[38;5;241m.\u001b[39mndarray:\n\u001b[0;32m    150\u001b[0m \u001b[38;5;250m    \u001b[39m\u001b[38;5;124;03m\"\"\"\u001b[39;00m\n\u001b[0;32m    151\u001b[0m \u001b[38;5;124;03m    Given a NumPy array X of features, return a NumPy array of predicted integer labels.\u001b[39;00m\n\u001b[0;32m    152\u001b[0m \u001b[38;5;124;03m    \"\"\"\u001b[39;00m\n\u001b[1;32m--> 153\u001b[0m     \u001b[38;5;28;01mreturn\u001b[39;00m np\u001b[38;5;241m.\u001b[39marray([\u001b[38;5;28;43mself\u001b[39;49m\u001b[38;5;241;43m.\u001b[39;49m\u001b[43m_traverse_tree\u001b[49m\u001b[43m(\u001b[49m\u001b[43mx\u001b[49m\u001b[43m,\u001b[49m\u001b[43m \u001b[49m\u001b[38;5;28;43mself\u001b[39;49m\u001b[38;5;241;43m.\u001b[39;49m\u001b[43mroot\u001b[49m\u001b[43m)\u001b[49m \u001b[38;5;28;01mfor\u001b[39;00m x \u001b[38;5;129;01min\u001b[39;00m X])\n",
      "File \u001b[1;32mc:\\Users\\augus\\OneDrive\\Dokumenter\\Machine Learning\\Innlevering\\Hovedinnlevering\\maskinlaering\\decision_tree_for_forest.py:218\u001b[0m, in \u001b[0;36mDecisionTree._traverse_tree\u001b[1;34m(self, x, node)\u001b[0m\n\u001b[0;32m    217\u001b[0m \u001b[38;5;28;01mdef\u001b[39;00m \u001b[38;5;21m_traverse_tree\u001b[39m(\u001b[38;5;28mself\u001b[39m, x: np\u001b[38;5;241m.\u001b[39mndarray, node: Node):\n\u001b[1;32m--> 218\u001b[0m     \u001b[38;5;28;01mif\u001b[39;00m \u001b[43mnode\u001b[49m\u001b[38;5;241;43m.\u001b[39;49m\u001b[43mis_leaf\u001b[49m():\n\u001b[0;32m    219\u001b[0m         \u001b[38;5;28;01mreturn\u001b[39;00m node\u001b[38;5;241m.\u001b[39mvalue\n\u001b[0;32m    221\u001b[0m     \u001b[38;5;28;01mif\u001b[39;00m x[node\u001b[38;5;241m.\u001b[39mfeature] \u001b[38;5;241m<\u001b[39m\u001b[38;5;241m=\u001b[39m node\u001b[38;5;241m.\u001b[39mthreshold:\n",
      "\u001b[1;31mAttributeError\u001b[0m: 'NoneType' object has no attribute 'is_leaf'"
     ]
    }
   ],
   "source": [
    "if __name__ == \"__main__\":\n",
    "    seed = 0\n",
    "\n",
    "    seed=np.random.seed(seed)\n",
    "\n",
    "\n",
    "\n",
    "    X_train, X_test, y_train, y_test = train_test_split(\n",
    "        X, y, test_size=0.3, random_state=seed, shuffle=True\n",
    "    )\n",
    "\n",
    "    # Expect the training accuracy to be 1.0 when max_depth=None\n",
    "    dt.fit(X_train, y_train)\n",
    "\n",
    "    print(f\"Training accuracy: {accuracy_score(y_train, rf.predict(X_train))}\")\n",
    "    print(f\"Validation accuracy: {accuracy_score(y_test, rf.predict(X_test))}\")\n",
    "        \n",
    "# if __name__ == \"__main__\":\n",
    "\n",
    "#     seed = 0\n",
    "\n",
    "#     np.random.seed(seed)\n",
    "\n",
    "#     X_train, X_test, y_train, y_test = train_test_split(\n",
    "#         X, y, test_size=0.3, random_state=seed, shuffle=True\n",
    "#     )\n",
    "#     rf = RandomForest(\n",
    "#         n_estimators=15, max_depth=7, criterion=\"gini\", max_features=\"log2\"\n",
    "#     )\n",
    "#     rf.fit(X_train, y_train)\n",
    "\n",
    "#     train_accuracy = accuracy_score(y_train, rf.predict(X_train))\n",
    "#     val_accuracy = accuracy_score(y_test, rf.predict(X_test))\n",
    "\n",
    "#     print(f\"Training accuracy: {train_accuracy}\")\n",
    "#     print(f\"Validation accuracy: {val_accuracy}\")"
   ]
  }
 ],
 "metadata": {
  "kernelspec": {
   "display_name": "Python 3",
   "language": "python",
   "name": "python3"
  },
  "language_info": {
   "codemirror_mode": {
    "name": "ipython",
    "version": 3
   },
   "file_extension": ".py",
   "mimetype": "text/x-python",
   "name": "python",
   "nbconvert_exporter": "python",
   "pygments_lexer": "ipython3",
   "version": "3.12.2"
  }
 },
 "nbformat": 4,
 "nbformat_minor": 2
}
