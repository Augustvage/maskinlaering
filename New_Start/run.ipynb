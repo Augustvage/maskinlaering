{
 "cells": [
  {
   "cell_type": "code",
   "execution_count": 1,
   "metadata": {},
   "outputs": [],
   "source": [
    "#Import Classes and Functions that we've made\n",
    "from decision_tree_for_forest import DecisionTree as DT2\n",
    "from random_forest import RandomForest\n",
    "from sklearn.model_selection import KFold, GridSearchCV\n",
    "import numpy as np \n",
    "import pandas as pd\n",
    "from sklearn.model_selection import StratifiedKFold\n",
    "from sklearn.metrics import accuracy_score\n",
    "import itertools\n",
    "from sklearn.ensemble import RandomForestClassifier as RFC\n",
    "from sklearn.tree import DecisionTreeClassifier as DTC\n",
    "from sklearn.model_selection import train_test_split\n",
    "from Grid_Search_With_Kfold import grid_search\n",
    "import importlib\n",
    "\n"
   ]
  },
  {
   "cell_type": "code",
   "execution_count": 2,
   "metadata": {},
   "outputs": [],
   "source": [
    "#Load Data\n",
    "wine_data=pd.read_csv('wine_dataset_small.csv')\n",
    "np_array=wine_data.to_numpy()\n",
    "X, y = np_array[:, :-1], np_array[:, -1]"
   ]
  },
  {
   "cell_type": "code",
   "execution_count": 3,
   "metadata": {},
   "outputs": [
    {
     "name": "stdout",
     "output_type": "stream",
     "text": [
      "Best Params: {'max_depth': 10, 'criterion': 'gini', 'max_features': None}\n",
      "Best Accuracy: 0.85\n"
     ]
    }
   ],
   "source": [
    "#Tune HyperParameters for DT for Wine\n",
    "best_params, best_accuracy = grid_search(\n",
    "    model_class=DT2,\n",
    "    X=X,\n",
    "    y=y,\n",
    "    max_depth=[5, 10],\n",
    "    criterion=['gini', 'entropy'],\n",
    ")\n",
    "print(\"Best Params:\", best_params)\n",
    "print(\"Best Accuracy:\", best_accuracy)\n"
   ]
  },
  {
   "cell_type": "code",
   "execution_count": 4,
   "metadata": {},
   "outputs": [
    {
     "name": "stdout",
     "output_type": "stream",
     "text": [
      "Best Params: {'n_estimators': 10, 'max_depth': 5, 'criterion': 'gini', 'max_features': 'log2'}\n",
      "Best Accuracy: 0.8640000000000001\n"
     ]
    }
   ],
   "source": [
    "#Tune HyperParameters for RF for Wine\n",
    "best_params, best_accuracy = grid_search(\n",
    "    model_class=RandomForest,\n",
    "    X=X,\n",
    "    y=y,\n",
    "    n_estimators=[10],\n",
    "    max_depth=[5, 10],\n",
    "    criterion=['gini', 'entropy'],\n",
    "    max_features=['log2', 'sqrt']\n",
    "    )\n",
    "print(\"Best Params:\", best_params)\n",
    "print(\"Best Accuracy:\", best_accuracy)"
   ]
  },
  {
   "cell_type": "code",
   "execution_count": 5,
   "metadata": {},
   "outputs": [
    {
     "name": "stdout",
     "output_type": "stream",
     "text": [
      "Best Params: {'max_depth': 10, 'criterion': 'gini', 'max_features': None}\n",
      "Best Accuracy: 0.8459999999999999\n"
     ]
    }
   ],
   "source": [
    "#Tune HyperParameters for DT Classifier for Wine\n",
    "best_params, best_accuracy = grid_search(\n",
    "    model_class=DTC,\n",
    "    X=X,\n",
    "    y=y,\n",
    "    max_depth=[5, 10],\n",
    "    criterion=['gini', 'entropy'],\n",
    ")\n",
    "print(\"Best Params:\", best_params)\n",
    "print(\"Best Accuracy:\", best_accuracy)"
   ]
  },
  {
   "cell_type": "code",
   "execution_count": 6,
   "metadata": {},
   "outputs": [
    {
     "name": "stdout",
     "output_type": "stream",
     "text": [
      "Best Params: {'n_estimators': 10, 'max_depth': 10, 'criterion': 'gini', 'max_features': 'sqrt'}\n",
      "Best Accuracy: 0.8720000000000001\n"
     ]
    }
   ],
   "source": [
    "#Tune HyperParameters for RF Classifier for Wine\n",
    "best_params, best_accuracy = grid_search(\n",
    "    model_class=RFC,\n",
    "    X=X,\n",
    "    y=y,\n",
    "    n_estimators=[10],\n",
    "    max_depth=[5, 10],\n",
    "    criterion=['gini', 'entropy'],\n",
    "    max_features=['log2', 'sqrt']\n",
    "    )\n",
    "print(\"Best Params:\", best_params)\n",
    "print(\"Best Accuracy:\", best_accuracy)"
   ]
  },
  {
   "cell_type": "code",
   "execution_count": 7,
   "metadata": {},
   "outputs": [],
   "source": [
    "coffee_data=pd.read_csv('coffee_data.csv')\n",
    "np_array=coffee_data.to_numpy()\n",
    "X, y = np_array[:, :-1], np_array[:, -1]"
   ]
  },
  {
   "cell_type": "code",
   "execution_count": 8,
   "metadata": {},
   "outputs": [
    {
     "name": "stdout",
     "output_type": "stream",
     "text": [
      "Best Params: {'max_depth': 5, 'criterion': 'entropy', 'max_features': None}\n",
      "Best Accuracy: 0.7948364888123924\n"
     ]
    }
   ],
   "source": [
    "best_params, best_accuracy = grid_search(\n",
    "    model_class=DT2,\n",
    "    X=X,\n",
    "    y=y,\n",
    "    max_depth=[5, 10],\n",
    "    criterion=['gini', 'entropy'],\n",
    ")\n",
    "print(\"Best Params:\", best_params)\n",
    "print(\"Best Accuracy:\", best_accuracy)"
   ]
  },
  {
   "cell_type": "code",
   "execution_count": 9,
   "metadata": {},
   "outputs": [
    {
     "name": "stdout",
     "output_type": "stream",
     "text": [
      "Best Params: {'n_estimators': 10, 'max_depth': 5, 'criterion': 'entropy', 'max_features': 'sqrt'}\n",
      "Best Accuracy: 0.8114457831325301\n"
     ]
    }
   ],
   "source": [
    "#Tune HyperParameters for RF for Wine\n",
    "best_params, best_accuracy = grid_search(\n",
    "    model_class=RandomForest,\n",
    "    X=X,\n",
    "    y=y,\n",
    "    n_estimators=[10],\n",
    "    max_depth=[5, 10],\n",
    "    criterion=['gini', 'entropy'],\n",
    "    max_features=['log2', 'sqrt']\n",
    "    )\n",
    "print(\"Best Params:\", best_params)\n",
    "print(\"Best Accuracy:\", best_accuracy)"
   ]
  }
 ],
 "metadata": {
  "kernelspec": {
   "display_name": "Python 3",
   "language": "python",
   "name": "python3"
  },
  "language_info": {
   "codemirror_mode": {
    "name": "ipython",
    "version": 3
   },
   "file_extension": ".py",
   "mimetype": "text/x-python",
   "name": "python",
   "nbconvert_exporter": "python",
   "pygments_lexer": "ipython3",
   "version": "3.12.2"
  }
 },
 "nbformat": 4,
 "nbformat_minor": 2
}
